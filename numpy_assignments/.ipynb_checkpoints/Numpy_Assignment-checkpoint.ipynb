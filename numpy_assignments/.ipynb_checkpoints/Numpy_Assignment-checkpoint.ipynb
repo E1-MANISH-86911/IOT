{
 "cells": [
  {
   "cell_type": "code",
   "execution_count": 4,
   "id": "59920857-95e1-4808-b050-eada1c23a18b",
   "metadata": {},
   "outputs": [],
   "source": [
    "import numpy as np"
   ]
  },
  {
   "cell_type": "code",
   "execution_count": 126,
   "id": "fc3509a9-b14e-486c-9c18-d44ea368f0b6",
   "metadata": {},
   "outputs": [
    {
     "name": "stdout",
     "output_type": "stream",
     "text": [
      "Size of memory occupied by array = 32\n"
     ]
    }
   ],
   "source": [
    "#1. Write a NumPy program to create an array with the values 1, 7, 13, 105 and determine the size of the memory occupied by the array.\n",
    "n1 = np.array([1,7,13,105])\n",
    "print(f\"Size of memory occupied by array = {n1.nbytes}\")"
   ]
  },
  {
   "cell_type": "code",
   "execution_count": 9,
   "id": "802474b7-e18c-4b42-af71-d7174eaf8373",
   "metadata": {},
   "outputs": [
    {
     "name": "stdout",
     "output_type": "stream",
     "text": [
      "n1 elements > n2 elements [False False  True  True False False]\n",
      "n1 elements >= n2 elements [False False  True  True  True False]\n",
      "n1 elements < n2 elements [ True  True False False False  True]\n",
      "n1 elements <= n2 elements [ True  True False False  True  True]\n"
     ]
    }
   ],
   "source": [
    "#2. Write a NumPy program to create an element-wise comparison (greater, greater_equal, less and less_equal) of two given arrays.\n",
    "n1 = np.array([5, 6, 8, 2, 1, 9])\n",
    "n2 = np.array([6, 7, 2, 0, 1, 10])\n",
    "print(f\"n1 elements > n2 elements {n1>n2}\")\n",
    "print(f\"n1 elements >= n2 elements {n1>=n2}\")\n",
    "print(f\"n1 elements < n2 elements {n1<n2}\")\n",
    "print(f\"n1 elements <= n2 elements {n1<=n2}\")"
   ]
  },
  {
   "cell_type": "code",
   "execution_count": 15,
   "id": "2073947d-9106-4ba4-b7c7-ecd83be02c41",
   "metadata": {},
   "outputs": [
    {
     "name": "stdout",
     "output_type": "stream",
     "text": [
      "[0 0 0 0 0 0 0 0 0 0]\n",
      "[1 1 1 1 1 1 1 1 1 1]\n",
      "[5 5 5 5 5 5 5 5 5 5]\n",
      "[10 10 10 10 10 10 10 10 10 10]\n",
      "[20 20 20 20 20 20 20 20 20 20]\n",
      "[50 50 50 50 50 50 50 50 50 50]\n"
     ]
    }
   ],
   "source": [
    "#3.  Write a NumPy program to create an array of 10 zeros, 10 ones, 10    fives, 10 tens, 10 twentys and 10 fiftys.\n",
    "arr1 = np.zeros(10, dtype=np.int8)\n",
    "print(arr1)\n",
    "arr2 = np.ones(10, dtype=np.int8)\n",
    "print(arr2)\n",
    "arr3 = np.ones(10, dtype=np.int8) * 5\n",
    "print(arr3)\n",
    "arr4 = np.ones(10, dtype=np.int8) * 10\n",
    "print(arr4)\n",
    "arr5 = np.ones(10, dtype=np.int8) *20\n",
    "print(arr5)\n",
    "arr6 = np.ones(10, dtype=np.int8) * 50\n",
    "print(arr6)"
   ]
  },
  {
   "cell_type": "code",
   "execution_count": 19,
   "id": "9212e688-1a13-4c12-9d21-0c7e65394756",
   "metadata": {},
   "outputs": [
    {
     "name": "stdout",
     "output_type": "stream",
     "text": [
      "[30 31 32 33 34 35 36 37 38 39 40 41 42 43 44 45 46 47 48 49 50 51 52 53\n",
      " 54 55 56 57 58 59 60 61 62 63 64 65 66 67 68 69 70]\n"
     ]
    }
   ],
   "source": [
    "#4. Write a NumPy program to create an array of integers from 30 to 70.\n",
    "arr1 = np.arange(30, 71)\n",
    "print(arr1)"
   ]
  },
  {
   "cell_type": "code",
   "execution_count": 21,
   "id": "6d1ac9e6-8360-4ad4-81ac-c43831adc0c8",
   "metadata": {},
   "outputs": [
    {
     "name": "stdout",
     "output_type": "stream",
     "text": [
      "[50 51 52 53 54 55 56 57 58 59 60 61 62 63 64 65 66 67 68 69 70 71 72 73\n",
      " 74 75 76 77 78 79 80 81 82 83 84 85 86 87 88 89 90 91 92 93 94 95]\n"
     ]
    }
   ],
   "source": [
    "#5. Write a NumPy program to create an array of integers from 50 to 95.\n",
    "arr1 = np.arange(50, 96)\n",
    "print(arr1)"
   ]
  },
  {
   "cell_type": "code",
   "execution_count": 22,
   "id": "c5e8116a-24c8-44f7-a023-b758f5a5893c",
   "metadata": {},
   "outputs": [
    {
     "name": "stdout",
     "output_type": "stream",
     "text": [
      "[20 22 24 26 28 30 32 34 36 38 40 42 44 46 48 50 52 54 56 58 60 62 64 66\n",
      " 68 70 72 74 76 78 80]\n"
     ]
    }
   ],
   "source": [
    "#6. Write a NumPy program to create an array of all even integers from 20 to 80.\n",
    "arr1 = np.arange(20, 81, 2)\n",
    "print(arr1)"
   ]
  },
  {
   "cell_type": "code",
   "execution_count": 26,
   "id": "b2729b2d-bd1d-4cdb-a3fd-1afe1a958576",
   "metadata": {},
   "outputs": [
    {
     "name": "stdout",
     "output_type": "stream",
     "text": [
      "[21 23 25 27 29 31 33 35 37 39 41 43 45 47 49 51 53 55 57 59 61 63 65 67\n",
      " 69 71 73 75 77 79]\n"
     ]
    }
   ],
   "source": [
    "#7.Write a NumPy program to create an array of all odd integers from 20 to 80.\n",
    "arr1 = np.arange(21, 80, 2)\n",
    "print(arr1)"
   ]
  },
  {
   "cell_type": "code",
   "execution_count": 28,
   "id": "509715bc-8a75-4fc9-85ed-cb0e2cfaa283",
   "metadata": {},
   "outputs": [
    {
     "name": "stdout",
     "output_type": "stream",
     "text": [
      "[32 37 37 34 16 25 14 24 28 15 17 37 24 16 19]\n"
     ]
    }
   ],
   "source": [
    "#8. Write a NumPy program to generate an array of 15 random numbers from 10    to 40.\n",
    "arr = np.random.randint(10, 40, 15)\n",
    "print(arr)"
   ]
  },
  {
   "cell_type": "code",
   "execution_count": 127,
   "id": "3f8c6653-3191-4964-b7af-c3afe9e2f5d8",
   "metadata": {},
   "outputs": [
    {
     "name": "stdout",
     "output_type": "stream",
     "text": [
      "[40 42 30 47 44 34 46 32 36 38]\n"
     ]
    }
   ],
   "source": [
    "#9. Write a NumPy program to generate an array of 10 random numbers from 30    to 50.\n",
    "arr = np.random.randint(30, 50, 10)\n",
    "print(arr)"
   ]
  },
  {
   "cell_type": "code",
   "execution_count": 128,
   "id": "2e1df088-b16b-4a78-b341-2704b2829be5",
   "metadata": {},
   "outputs": [
    {
     "name": "stdout",
     "output_type": "stream",
     "text": [
      "[67 86 84 67 89 86 79 61 63 66 76 66 83 53 83 76 72 67 67 50]\n"
     ]
    }
   ],
   "source": [
    "#10. Write a NumPy program to generate an array of 20 random numbers from 50    to 90.\n",
    "arr = np.random.randint(50, 90, 20)\n",
    "print(arr)"
   ]
  },
  {
   "cell_type": "code",
   "execution_count": 33,
   "id": "9049907c-0648-4e13-a0bd-435b19056313",
   "metadata": {},
   "outputs": [
    {
     "name": "stdout",
     "output_type": "stream",
     "text": [
      "Addition = [ 8 14 10 12 12 21]\n",
      "Subustraction = [ 4 10  6  4  6  7]\n",
      "Multiplication = [12 24 16 32 27 98]\n",
      "Divide = [3. 6. 4. 2. 3. 2.]\n"
     ]
    }
   ],
   "source": [
    "#11. Create any two arrays & perform various mathematical operations. \n",
    "#i.e. Addition, Substraction, Multiplication, Divide.\n",
    "n1 = np.array([6, 12, 8, 8, 9, 14])\n",
    "n2 = np.array([2, 2, 2, 4, 3, 7])\n",
    "print(f\"Addition = {n1+n2}\")\n",
    "print(f\"Subustraction = {n1-n2}\")\n",
    "print(f\"Multiplication = {n1*n2}\")\n",
    "print(f\"Divide = {n1/n2}\")"
   ]
  },
  {
   "cell_type": "code",
   "execution_count": 38,
   "id": "b29a0b05-ce94-47f3-b28c-bdaaa8328ae1",
   "metadata": {},
   "outputs": [
    {
     "name": "stdout",
     "output_type": "stream",
     "text": [
      "[[10 11 12 13]\n",
      " [14 15 16 17]\n",
      " [18 19 20 21]]\n"
     ]
    }
   ],
   "source": [
    "#12. Write a NumPy program to create a 3x4 matrix filled with values from 10     to 21.\n",
    "arr1 = np.arange(10, 22)\n",
    "arr1 = arr1.reshape([3,4])\n",
    "print(arr1)"
   ]
  },
  {
   "cell_type": "code",
   "execution_count": 132,
   "id": "87463b03-2409-4e6e-a943-f5bdda5c53cf",
   "metadata": {},
   "outputs": [
    {
     "name": "stdout",
     "output_type": "stream",
     "text": [
      "[[1. 0. 0.]\n",
      " [0. 1. 0.]\n",
      " [0. 0. 1.]]\n"
     ]
    }
   ],
   "source": [
    "#13. Write a NumPy program to create a 3x3 identity matrix, i.e. the diagonal elements are 1, \n",
    "#the rest are 0.\n",
    "#arr1 = np.array([1,0,0,0,1,0,0,0,1])\n",
    "#arr1 = arr1.reshape([3, 3])\n",
    "arr = np.identity(3)\n",
    "print(arr)"
   ]
  },
  {
   "cell_type": "code",
   "execution_count": 42,
   "id": "ce0af12e-67c4-444b-9972-9e29f50e15d5",
   "metadata": {},
   "outputs": [
    {
     "name": "stdout",
     "output_type": "stream",
     "text": [
      "Number of rows and columns in array: (3, 3)\n"
     ]
    }
   ],
   "source": [
    "#14. Write a NumPy program to find the number of rows and columns in a given matrix.\n",
    "arr1 = np.array([1,0,0,0,1,0,0,0,1])\n",
    "arr1 = arr1.reshape([3, 3])\n",
    "print(f\"Number of rows and columns in array: {arr1.shape}\")"
   ]
  },
  {
   "cell_type": "code",
   "execution_count": 135,
   "id": "d3357eb9-0a3e-4f31-affa-633f31170a1c",
   "metadata": {},
   "outputs": [
    {
     "name": "stdout",
     "output_type": "stream",
     "text": [
      "[[1 0 0 0 0]\n",
      " [0 2 0 0 0]\n",
      " [0 0 3 0 0]\n",
      " [0 0 0 4 0]\n",
      " [0 0 0 0 5]]\n"
     ]
    }
   ],
   "source": [
    "#15. Write a NumPy program to create a 5x5 zero matrix with elements on the     \n",
    "#main diagonal equal to 1, 2, 3, 4, 5.\n",
    "# arr1 = np.zeros(25,dtype=np.int8)\n",
    "# arr1 = arr1.reshape([5, 5])\n",
    "# arr1[0][0] = 1\n",
    "# arr1[1][1] = 2\n",
    "# arr1[2][2] = 3\n",
    "# arr1[3][3] = 4\n",
    "# arr1[4][4] = 5\n",
    "# print(arr1)\n",
    "arr = np.diag([1,2,3,4,5])\n",
    "print(arr)"
   ]
  },
  {
   "cell_type": "code",
   "execution_count": 65,
   "id": "8333f4fc-8658-46cb-914d-0a499031cc57",
   "metadata": {},
   "outputs": [
    {
     "name": "stdout",
     "output_type": "stream",
     "text": [
      "[[[0.62552742 0.73291389 0.68727623]\n",
      "  [0.43169323 0.43170845 0.72420588]\n",
      "  [0.74112199 0.55639551 0.21538234]]\n",
      "\n",
      " [[0.47894433 0.16337811 0.10155244]\n",
      "  [0.53469867 0.01259359 0.11603195]\n",
      "  [0.16285104 0.61995741 0.7475283 ]]\n",
      "\n",
      " [[0.10294675 0.25428596 0.2882824 ]\n",
      "  [0.6310799  0.22150412 0.32881278]\n",
      "  [0.68399579 0.92986167 0.78381497]]]\n"
     ]
    }
   ],
   "source": [
    "#16. Write a NumPy program to create a 3x3x3 array filled with arbitrary values.\n",
    "arr = np.random.random((3, 3, 3))\n",
    "print(arr)"
   ]
  },
  {
   "cell_type": "code",
   "execution_count": 81,
   "id": "f4a95015-76bd-42e2-aa79-7be07f6000e4",
   "metadata": {},
   "outputs": [
    {
     "name": "stdout",
     "output_type": "stream",
     "text": [
      "[[[0.33508069 0.99657729 0.88589994 0.5563732 ]\n",
      "  [0.97502877 0.69893154 0.69950518 0.30539302]\n",
      "  [0.02729229 0.05206724 0.64379858 0.17708804]]\n",
      "\n",
      " [[0.56301097 0.21953131 0.76447078 0.68020703]\n",
      "  [0.1070244  0.73999214 0.22866914 0.77216851]\n",
      "  [0.16743142 0.88540461 0.72378836 0.86033471]]]\n"
     ]
    }
   ],
   "source": [
    "#17. Write a NumPy program to create a 2x3x4 array filled with arbitrary values.\n",
    "arr = np.random.random((2, 3, 4))\n",
    "print(arr)"
   ]
  },
  {
   "cell_type": "code",
   "execution_count": 114,
   "id": "4d5f0578-29df-4faf-a09f-62dde6c93185",
   "metadata": {},
   "outputs": [
    {
     "name": "stdout",
     "output_type": "stream",
     "text": [
      "List: [1, 2, 3, 4, 5, 6, 7, 8]\n",
      "Type: <class 'list'>\n",
      "array: [1 2 3 4 5 6 7 8]\n",
      "Type: <class 'numpy.ndarray'>\n"
     ]
    }
   ],
   "source": [
    "#18. Write a NumPy program to convert a list of numeric values into a one-dimensional NumPy array.\n",
    "l1 = [1, 2, 3, 4, 5, 6, 7, 8]\n",
    "print(f\"List: {l1}\")\n",
    "print(f\"Type: {type(l1)}\")\n",
    "arr = np.array(l1)\n",
    "print(f\"array: {arr}\")\n",
    "print(f\"Type: {type(arr)}\")"
   ]
  },
  {
   "cell_type": "code",
   "execution_count": 88,
   "id": "f91a6592-7639-41a2-a3fa-d6a422d2a24a",
   "metadata": {},
   "outputs": [
    {
     "name": "stdout",
     "output_type": "stream",
     "text": [
      "[[ 2  3  4]\n",
      " [ 5  6  7]\n",
      " [ 8  9 10]]\n"
     ]
    }
   ],
   "source": [
    "#19. Write a NumPy program to create a 3x3 matrix with values ranging from 2 to 10.\n",
    "arr = np.arange(2, 11)\n",
    "arr = arr.reshape([3, 3])\n",
    "print(arr)"
   ]
  },
  {
   "cell_type": "code",
   "execution_count": 136,
   "id": "285aacd9-5518-4186-b53a-f5ec05cca81b",
   "metadata": {},
   "outputs": [
    {
     "name": "stdout",
     "output_type": "stream",
     "text": [
      "[12 13 14 15 16 17 18 19 20 21 22 23 24 25 26 27 28 29 30 31 32 33 34 35\n",
      " 36 37]\n"
     ]
    }
   ],
   "source": [
    "#20. Write a NumPy program to create an array with values ranging from 12 to 38.\n",
    "arr = np.arange(12, 38)\n",
    "print(arr)"
   ]
  },
  {
   "cell_type": "code",
   "execution_count": 93,
   "id": "f542494c-abc5-480a-ae1b-7cb58239627e",
   "metadata": {},
   "outputs": [
    {
     "name": "stdout",
     "output_type": "stream",
     "text": [
      "Original array: [0 1 2 3 4 5 6 7 8 9]\n",
      "Reverse array: [9 8 7 6 5 4 3 2 1 0]\n"
     ]
    }
   ],
   "source": [
    "#21. Write a NumPy program to reverse an array (the first element becomes the last).\n",
    "arr = np.arange(10)\n",
    "print(f\"Original array: {arr}\")\n",
    "arr = arr[::-1]\n",
    "print(f\"Reverse array: {arr}\")"
   ]
  },
  {
   "cell_type": "code",
   "execution_count": 110,
   "id": "bae011d5-997b-432b-9300-1dc99af55b32",
   "metadata": {},
   "outputs": [
    {
     "name": "stdout",
     "output_type": "stream",
     "text": [
      "[0 1 2 3 4 5 6 7 8 9]\n",
      "Type = int64\n",
      "[0. 1. 2. 3. 4. 5. 6. 7. 8. 9.]\n",
      "Type = float64\n"
     ]
    }
   ],
   "source": [
    "#22. Write a NumPy program to convert an data type into to a floating type.\n",
    "arr = np.arange(10)\n",
    "print(arr)\n",
    "print(f\"Type = {arr.dtype}\")\n",
    "arr = arr.astype('float64')\n",
    "print(arr)\n",
    "print(f\"Type = {arr.dtype}\")"
   ]
  },
  {
   "cell_type": "code",
   "execution_count": 115,
   "id": "c29d7efb-86f3-4f53-aab8-a725b1a38ff4",
   "metadata": {},
   "outputs": [
    {
     "name": "stdout",
     "output_type": "stream",
     "text": [
      "List: [1, 2, 3, 4, 5, 6, 7, 8]\n",
      "Type: <class 'list'>\n",
      "array: [1 2 3 4 5 6 7 8]\n",
      "Type: <class 'numpy.ndarray'>\n"
     ]
    }
   ],
   "source": [
    "#23. Write a NumPy program to convert a list array.\n",
    "l1 = [1, 2, 3, 4, 5, 6, 7, 8]\n",
    "print(f\"List: {l1}\")\n",
    "print(f\"Type: {type(l1)}\")\n",
    "arr = np.array(l1)\n",
    "print(f\"array: {arr}\")\n",
    "print(f\"Type: {type(arr)}\")"
   ]
  },
  {
   "cell_type": "code",
   "execution_count": 121,
   "id": "c523fc95-a663-464b-ba4b-27743402f2ca",
   "metadata": {},
   "outputs": [
    {
     "name": "stdout",
     "output_type": "stream",
     "text": [
      "Original array: [0 1 2 3 4 5 6 7 8 9]\n",
      "Reminder of an array of division: [0 1 0 1 0 1 0 1 0 1]\n"
     ]
    }
   ],
   "source": [
    "#24. Write a NumPy program to get the element-wise remainder of an array of division.\n",
    "arr = np.arange(10)\n",
    "print(f\"Original array: {arr}\")\n",
    "\n",
    "print(f\"Reminder of an array of division: {np.remainder(arr, 2)}\")"
   ]
  },
  {
   "cell_type": "code",
   "execution_count": 123,
   "id": "0dfcbf28-8cb9-4cbf-a5f2-1dc16badff1f",
   "metadata": {},
   "outputs": [
    {
     "name": "stdout",
     "output_type": "stream",
     "text": [
      "Original array: [20 21 22 23 24 25 26 27 28 29 30 31 32 33 34 35 36 37 38 39 40 41 42 43\n",
      " 44 45 46 47 48 49]\n",
      "Reminder of an array of division: [2 0 1 2 0 1 2 0 1 2 0 1 2 0 1 2 0 1 2 0 1 2 0 1 2 0 1 2 0 1]\n"
     ]
    }
   ],
   "source": [
    "#25. Write a NumPy program to get the element-wise remainder of an array of numbers from 20 to 50 which are \n",
    "#divisible by 3.\n",
    "arr = np.arange(20, 50)\n",
    "print(f\"Original array: {arr}\")\n",
    "\n",
    "print(f\"Reminder of an array of division: {np.remainder(arr, 3)}\")"
   ]
  },
  {
   "cell_type": "code",
   "execution_count": null,
   "id": "0fb65a5d-958c-4961-bc2e-024f510ecb54",
   "metadata": {},
   "outputs": [],
   "source": []
  }
 ],
 "metadata": {
  "kernelspec": {
   "display_name": "Python 3 (ipykernel)",
   "language": "python",
   "name": "python3"
  },
  "language_info": {
   "codemirror_mode": {
    "name": "ipython",
    "version": 3
   },
   "file_extension": ".py",
   "mimetype": "text/x-python",
   "name": "python",
   "nbconvert_exporter": "python",
   "pygments_lexer": "ipython3",
   "version": "3.10.12"
  }
 },
 "nbformat": 4,
 "nbformat_minor": 5
}
